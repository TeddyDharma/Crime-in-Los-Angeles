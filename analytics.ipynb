{
 "cells": [
  {
   "cell_type": "code",
   "execution_count": 8,
   "metadata": {},
   "outputs": [],
   "source": [
    "import pandas as pd\n",
    "import seaborn as sns\n",
    "import matplotlib.pyplot as plt \n",
    "import plotly.express as px\n",
    "import numpy as np"
   ]
  },
  {
   "cell_type": "code",
   "execution_count": 3,
   "metadata": {},
   "outputs": [
    {
     "data": {
      "text/html": [
       "<div>\n",
       "<style scoped>\n",
       "    .dataframe tbody tr th:only-of-type {\n",
       "        vertical-align: middle;\n",
       "    }\n",
       "\n",
       "    .dataframe tbody tr th {\n",
       "        vertical-align: top;\n",
       "    }\n",
       "\n",
       "    .dataframe thead th {\n",
       "        text-align: right;\n",
       "    }\n",
       "</style>\n",
       "<table border=\"1\" class=\"dataframe\">\n",
       "  <thead>\n",
       "    <tr style=\"text-align: right;\">\n",
       "      <th></th>\n",
       "      <th>DR Number</th>\n",
       "      <th>Date Reported</th>\n",
       "      <th>Date Occurred</th>\n",
       "      <th>Time Occurred</th>\n",
       "      <th>Area ID</th>\n",
       "      <th>Area Name</th>\n",
       "      <th>Reporting District</th>\n",
       "      <th>Crime Code</th>\n",
       "      <th>Crime Code Description</th>\n",
       "      <th>MO Codes</th>\n",
       "      <th>...</th>\n",
       "      <th>Weapon Description</th>\n",
       "      <th>Status Code</th>\n",
       "      <th>Status Description</th>\n",
       "      <th>Crime Code 1</th>\n",
       "      <th>Crime Code 2</th>\n",
       "      <th>Crime Code 3</th>\n",
       "      <th>Crime Code 4</th>\n",
       "      <th>Address</th>\n",
       "      <th>Cross Street</th>\n",
       "      <th>Location</th>\n",
       "    </tr>\n",
       "  </thead>\n",
       "  <tbody>\n",
       "    <tr>\n",
       "      <th>0</th>\n",
       "      <td>1208575</td>\n",
       "      <td>03/14/2013</td>\n",
       "      <td>03/11/2013</td>\n",
       "      <td>1800</td>\n",
       "      <td>12</td>\n",
       "      <td>77th Street</td>\n",
       "      <td>1241</td>\n",
       "      <td>626</td>\n",
       "      <td>INTIMATE PARTNER - SIMPLE ASSAULT</td>\n",
       "      <td>0416 0446 1243 2000</td>\n",
       "      <td>...</td>\n",
       "      <td>STRONG-ARM (HANDS, FIST, FEET OR BODILY FORCE)</td>\n",
       "      <td>AO</td>\n",
       "      <td>Adult Other</td>\n",
       "      <td>626.0</td>\n",
       "      <td>NaN</td>\n",
       "      <td>NaN</td>\n",
       "      <td>NaN</td>\n",
       "      <td>6300    BRYNHURST                    AV</td>\n",
       "      <td>NaN</td>\n",
       "      <td>(33.9829, -118.3338)</td>\n",
       "    </tr>\n",
       "    <tr>\n",
       "      <th>1</th>\n",
       "      <td>102005556</td>\n",
       "      <td>01/25/2010</td>\n",
       "      <td>01/22/2010</td>\n",
       "      <td>2300</td>\n",
       "      <td>20</td>\n",
       "      <td>Olympic</td>\n",
       "      <td>2071</td>\n",
       "      <td>510</td>\n",
       "      <td>VEHICLE - STOLEN</td>\n",
       "      <td>NaN</td>\n",
       "      <td>...</td>\n",
       "      <td>NaN</td>\n",
       "      <td>IC</td>\n",
       "      <td>Invest Cont</td>\n",
       "      <td>510.0</td>\n",
       "      <td>NaN</td>\n",
       "      <td>NaN</td>\n",
       "      <td>NaN</td>\n",
       "      <td>VAN NESS</td>\n",
       "      <td>15TH</td>\n",
       "      <td>(34.0454, -118.3157)</td>\n",
       "    </tr>\n",
       "    <tr>\n",
       "      <th>2</th>\n",
       "      <td>418</td>\n",
       "      <td>03/19/2013</td>\n",
       "      <td>03/18/2013</td>\n",
       "      <td>2030</td>\n",
       "      <td>18</td>\n",
       "      <td>Southeast</td>\n",
       "      <td>1823</td>\n",
       "      <td>510</td>\n",
       "      <td>VEHICLE - STOLEN</td>\n",
       "      <td>NaN</td>\n",
       "      <td>...</td>\n",
       "      <td>NaN</td>\n",
       "      <td>IC</td>\n",
       "      <td>Invest Cont</td>\n",
       "      <td>510.0</td>\n",
       "      <td>NaN</td>\n",
       "      <td>NaN</td>\n",
       "      <td>NaN</td>\n",
       "      <td>200 E  104TH                        ST</td>\n",
       "      <td>NaN</td>\n",
       "      <td>(33.942, -118.2717)</td>\n",
       "    </tr>\n",
       "    <tr>\n",
       "      <th>3</th>\n",
       "      <td>101822289</td>\n",
       "      <td>11/11/2010</td>\n",
       "      <td>11/10/2010</td>\n",
       "      <td>1800</td>\n",
       "      <td>18</td>\n",
       "      <td>Southeast</td>\n",
       "      <td>1803</td>\n",
       "      <td>510</td>\n",
       "      <td>VEHICLE - STOLEN</td>\n",
       "      <td>NaN</td>\n",
       "      <td>...</td>\n",
       "      <td>NaN</td>\n",
       "      <td>IC</td>\n",
       "      <td>Invest Cont</td>\n",
       "      <td>510.0</td>\n",
       "      <td>NaN</td>\n",
       "      <td>NaN</td>\n",
       "      <td>NaN</td>\n",
       "      <td>88TH</td>\n",
       "      <td>WALL</td>\n",
       "      <td>(33.9572, -118.2717)</td>\n",
       "    </tr>\n",
       "    <tr>\n",
       "      <th>4</th>\n",
       "      <td>42104479</td>\n",
       "      <td>01/11/2014</td>\n",
       "      <td>01/04/2014</td>\n",
       "      <td>2300</td>\n",
       "      <td>21</td>\n",
       "      <td>Topanga</td>\n",
       "      <td>2133</td>\n",
       "      <td>745</td>\n",
       "      <td>VANDALISM - MISDEAMEANOR ($399 OR UNDER)</td>\n",
       "      <td>0329</td>\n",
       "      <td>...</td>\n",
       "      <td>NaN</td>\n",
       "      <td>IC</td>\n",
       "      <td>Invest Cont</td>\n",
       "      <td>745.0</td>\n",
       "      <td>NaN</td>\n",
       "      <td>NaN</td>\n",
       "      <td>NaN</td>\n",
       "      <td>7200    CIRRUS                       WY</td>\n",
       "      <td>NaN</td>\n",
       "      <td>(34.2009, -118.6369)</td>\n",
       "    </tr>\n",
       "  </tbody>\n",
       "</table>\n",
       "<p>5 rows × 26 columns</p>\n",
       "</div>"
      ],
      "text/plain": [
       "   DR Number Date Reported Date Occurred  Time Occurred  Area ID    Area Name  \\\n",
       "0    1208575    03/14/2013    03/11/2013           1800       12  77th Street   \n",
       "1  102005556    01/25/2010    01/22/2010           2300       20      Olympic   \n",
       "2        418    03/19/2013    03/18/2013           2030       18    Southeast   \n",
       "3  101822289    11/11/2010    11/10/2010           1800       18    Southeast   \n",
       "4   42104479    01/11/2014    01/04/2014           2300       21      Topanga   \n",
       "\n",
       "   Reporting District  Crime Code                    Crime Code Description  \\\n",
       "0                1241         626         INTIMATE PARTNER - SIMPLE ASSAULT   \n",
       "1                2071         510                          VEHICLE - STOLEN   \n",
       "2                1823         510                          VEHICLE - STOLEN   \n",
       "3                1803         510                          VEHICLE - STOLEN   \n",
       "4                2133         745  VANDALISM - MISDEAMEANOR ($399 OR UNDER)   \n",
       "\n",
       "              MO Codes  ...                              Weapon Description  \\\n",
       "0  0416 0446 1243 2000  ...  STRONG-ARM (HANDS, FIST, FEET OR BODILY FORCE)   \n",
       "1                  NaN  ...                                             NaN   \n",
       "2                  NaN  ...                                             NaN   \n",
       "3                  NaN  ...                                             NaN   \n",
       "4                 0329  ...                                             NaN   \n",
       "\n",
       "  Status Code Status Description  Crime Code 1 Crime Code 2  Crime Code 3  \\\n",
       "0          AO        Adult Other         626.0          NaN           NaN   \n",
       "1          IC        Invest Cont         510.0          NaN           NaN   \n",
       "2          IC        Invest Cont         510.0          NaN           NaN   \n",
       "3          IC        Invest Cont         510.0          NaN           NaN   \n",
       "4          IC        Invest Cont         745.0          NaN           NaN   \n",
       "\n",
       "  Crime Code 4                                  Address Cross Street  \\\n",
       "0          NaN  6300    BRYNHURST                    AV          NaN   \n",
       "1          NaN                                 VAN NESS         15TH   \n",
       "2          NaN   200 E  104TH                        ST          NaN   \n",
       "3          NaN                                     88TH         WALL   \n",
       "4          NaN  7200    CIRRUS                       WY          NaN   \n",
       "\n",
       "              Location   \n",
       "0  (33.9829, -118.3338)  \n",
       "1  (34.0454, -118.3157)  \n",
       "2   (33.942, -118.2717)  \n",
       "3  (33.9572, -118.2717)  \n",
       "4  (34.2009, -118.6369)  \n",
       "\n",
       "[5 rows x 26 columns]"
      ]
     },
     "execution_count": 3,
     "metadata": {},
     "output_type": "execute_result"
    }
   ],
   "source": [
    "data = pd.read_csv(\"./data/Crime_Data_2010_2017.csv\") \n",
    "data.head()"
   ]
  },
  {
   "cell_type": "code",
   "execution_count": 7,
   "metadata": {},
   "outputs": [
    {
     "data": {
      "text/plain": [
       "(1584316, 26)"
      ]
     },
     "execution_count": 7,
     "metadata": {},
     "output_type": "execute_result"
    }
   ],
   "source": [
    "data.shape"
   ]
  },
  {
   "cell_type": "code",
   "execution_count": 21,
   "metadata": {},
   "outputs": [
    {
     "name": "stdout",
     "output_type": "stream",
     "text": [
      "<class 'pandas.core.frame.DataFrame'>\n",
      "RangeIndex: 1584316 entries, 0 to 1584315\n",
      "Data columns (total 26 columns):\n",
      " #   Column                  Non-Null Count    Dtype  \n",
      "---  ------                  --------------    -----  \n",
      " 0   DR Number               1584316 non-null  int64  \n",
      " 1   Date Reported           1584316 non-null  object \n",
      " 2   Date Occurred           1584316 non-null  object \n",
      " 3   Time Occurred           1584316 non-null  int64  \n",
      " 4   Area ID                 1584316 non-null  int64  \n",
      " 5   Area Name               1584316 non-null  object \n",
      " 6   Reporting District      1584316 non-null  int64  \n",
      " 7   Crime Code              1584316 non-null  int64  \n",
      " 8   Crime Code Description  1583904 non-null  object \n",
      " 9   MO Codes                1412557 non-null  object \n",
      " 10  Victim Age              1455657 non-null  float64\n",
      " 11  Victim Sex              1439117 non-null  object \n",
      " 12  Victim Descent          1439084 non-null  object \n",
      " 13  Premise Code            1584240 non-null  float64\n",
      " 14  Premise Description     1581565 non-null  object \n",
      " 15  Weapon Used Code        524757 non-null   float64\n",
      " 16  Weapon Description      524756 non-null   object \n",
      " 17  Status Code             1584314 non-null  object \n",
      " 18  Status Description      1584316 non-null  object \n",
      " 19  Crime Code 1            1584309 non-null  float64\n",
      " 20  Crime Code 2            99997 non-null    float64\n",
      " 21  Crime Code 3            2183 non-null     float64\n",
      " 22  Crime Code 4            69 non-null       float64\n",
      " 23  Address                 1584316 non-null  object \n",
      " 24  Cross Street            262733 non-null   object \n",
      " 25  Location                1584307 non-null  object \n",
      "dtypes: float64(7), int64(5), object(14)\n",
      "memory usage: 314.3+ MB\n"
     ]
    }
   ],
   "source": [
    "data.info()"
   ]
  },
  {
   "cell_type": "code",
   "execution_count": 5,
   "metadata": {},
   "outputs": [
    {
     "data": {
      "text/plain": [
       "DR Number                       0\n",
       "Date Reported                   0\n",
       "Date Occurred                   0\n",
       "Time Occurred                   0\n",
       "Area ID                         0\n",
       "Area Name                       0\n",
       "Reporting District              0\n",
       "Crime Code                      0\n",
       "Crime Code Description        412\n",
       "MO Codes                   171759\n",
       "Victim Age                 128659\n",
       "Victim Sex                 145199\n",
       "Victim Descent             145232\n",
       "Premise Code                   76\n",
       "Premise Description          2751\n",
       "Weapon Used Code          1059559\n",
       "Weapon Description        1059560\n",
       "Status Code                     2\n",
       "Status Description              0\n",
       "Crime Code 1                    7\n",
       "Crime Code 2              1484319\n",
       "Crime Code 3              1582133\n",
       "Crime Code 4              1584247\n",
       "Address                         0\n",
       "Cross Street              1321583\n",
       "Location                        9\n",
       "dtype: int64"
      ]
     },
     "execution_count": 5,
     "metadata": {},
     "output_type": "execute_result"
    }
   ],
   "source": [
    "data.isnull().sum()"
   ]
  },
  {
   "cell_type": "code",
   "execution_count": 9,
   "metadata": {},
   "outputs": [
    {
     "data": {
      "text/plain": [
       "array(['-', 'A', 'B', 'C', 'D', 'F', 'G', 'H', 'I', 'J', 'K', 'L', 'O',\n",
       "       'P', 'S', 'U', 'V', 'W', 'X', 'Z', 'nan'], dtype='<U32')"
      ]
     },
     "execution_count": 9,
     "metadata": {},
     "output_type": "execute_result"
    }
   ],
   "source": [
    "np.unique(data['Victim Descent'].tolist())\n",
    "\n",
    "# A: Asian (Asia)\n",
    "# B: Black or African American (Hitam atau Afrika-Amerika)\n",
    "# C: Chinese (Tionghoa)\n",
    "# D: Cambodian (Kamboja)\n",
    "# F: Filipino (Filipina)\n",
    "# G: Guamanian (Guam)\n",
    "# H: Hispanic or Latino (Hispanik atau Latino)\n",
    "# I: American Indian or Alaska Native (Penduduk Asli Amerika atau Penduduk Asli Alaska)\n",
    "# J: Japanese (Jepang)\n",
    "# K: Korean (Korea)\n",
    "# L: Laotian (Laos)\n",
    "# O: Other (Lain-lain)\n",
    "# P: Pacific Islander (Penduduk Pulau Pasifik)\n",
    "# S: Samoan (Samoa)\n",
    "# U: Hawaiian (Hawaii)\n",
    "# V: Vietnamese (Vietnam)\n",
    "# W: White or Caucasian (Putih atau Kaukasia)\n",
    "# X: Unknown (Tidak Diketahui)\n",
    "# Z: Asian Indian (India)"
   ]
  },
  {
   "cell_type": "code",
   "execution_count": 17,
   "metadata": {},
   "outputs": [
    {
     "data": {
      "text/plain": [
       "[822, 760, 921, 814]"
      ]
     },
     "execution_count": 17,
     "metadata": {},
     "output_type": "execute_result"
    }
   ],
   "source": [
    "arr = []\n",
    "for i in range(data.shape[0]):\n",
    "    if pd.isna(data.loc[i, \"Crime Code Description\"]):\n",
    "        # print(data.loc[i, \"Crime Code Description\"])\n",
    "        if data.loc[i, \"Crime Code\"] not in arr: \n",
    "             arr.append(data.loc[i, 'Crime Code'])\n",
    "\n",
    "\n",
    "arr\n"
   ]
  },
  {
   "cell_type": "code",
   "execution_count": 18,
   "metadata": {},
   "outputs": [],
   "source": [
    "for array  in arr: \n",
    "    for i in range(data.shape[0]): \n",
    "        if data.loc[i, \"Crime Code\"] == array and not pd.isna(data.loc[i, \"Crime Code Description\"]): \n",
    "            print(f'{array} - {data.loc[i, \"Crime Code Description\"]}')"
   ]
  }
 ],
 "metadata": {
  "kernelspec": {
   "display_name": "Python 3",
   "language": "python",
   "name": "python3"
  },
  "language_info": {
   "codemirror_mode": {
    "name": "ipython",
    "version": 3
   },
   "file_extension": ".py",
   "mimetype": "text/x-python",
   "name": "python",
   "nbconvert_exporter": "python",
   "pygments_lexer": "ipython3",
   "version": "3.11.2"
  }
 },
 "nbformat": 4,
 "nbformat_minor": 2
}
